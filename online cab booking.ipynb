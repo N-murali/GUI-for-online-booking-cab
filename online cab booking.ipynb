{
 "cells": [
  {
   "cell_type": "code",
   "execution_count": 1,
   "id": "1f2c775a",
   "metadata": {},
   "outputs": [],
   "source": [
    "from tkinter import*"
   ]
  },
  {
   "cell_type": "code",
   "execution_count": 2,
   "id": "17e08a9b",
   "metadata": {},
   "outputs": [],
   "source": [
    "from PIL import Image,ImageTk"
   ]
  },
  {
   "cell_type": "code",
   "execution_count": 3,
   "id": "10402000",
   "metadata": {},
   "outputs": [],
   "source": [
    "from tkinter import messagebox"
   ]
  },
  {
   "cell_type": "code",
   "execution_count": 3,
   "id": "95c57ac1",
   "metadata": {},
   "outputs": [
    {
     "name": "stdout",
     "output_type": "stream",
     "text": [
      "Defaulting to user installation because normal site-packages is not writeable\n",
      "Requirement already satisfied: mysqlclient in c:\\users\\mural\\appdata\\roaming\\python\\python39\\site-packages (2.1.1)\n",
      "Note: you may need to restart the kernel to use updated packages.\n"
     ]
    }
   ],
   "source": [
    "pip install mysqlclient"
   ]
  },
  {
   "cell_type": "code",
   "execution_count": 4,
   "id": "49f7e8e4",
   "metadata": {},
   "outputs": [
    {
     "name": "stdout",
     "output_type": "stream",
     "text": [
      "Defaulting to user installation because normal site-packages is not writeable\n",
      "Requirement already satisfied: mysql-connector-python in c:\\users\\mural\\appdata\\roaming\\python\\python39\\site-packages (8.0.33)\n",
      "Requirement already satisfied: protobuf<=3.20.3,>=3.11.0 in c:\\users\\mural\\appdata\\roaming\\python\\python39\\site-packages (from mysql-connector-python) (3.20.3)\n",
      "Note: you may need to restart the kernel to use updated packages.\n"
     ]
    }
   ],
   "source": [
    "pip install mysql-connector-python"
   ]
  },
  {
   "cell_type": "code",
   "execution_count": 4,
   "id": "b79400c3",
   "metadata": {},
   "outputs": [],
   "source": [
    "import mysql.connector"
   ]
  },
  {
   "cell_type": "code",
   "execution_count": 5,
   "id": "7b994adf",
   "metadata": {},
   "outputs": [],
   "source": [
    "import mysql"
   ]
  },
  {
   "cell_type": "code",
   "execution_count": 6,
   "id": "271b78b2",
   "metadata": {},
   "outputs": [],
   "source": [
    "my_data_base=mysql.connector.connect(host=\"localhost\",user=\"root\",password=\"Murali@28052003\",database=\"cab\")"
   ]
  },
  {
   "cell_type": "code",
   "execution_count": 7,
   "id": "5531eae9",
   "metadata": {},
   "outputs": [],
   "source": [
    "mycursor=my_data_base.cursor()"
   ]
  },
  {
   "cell_type": "code",
   "execution_count": 22,
   "id": "a5ca5e46",
   "metadata": {},
   "outputs": [],
   "source": [
    "mycursor.execute(\"create table userdetails (First_Name varchar(255), Last_Name varchar(255), Mobile_Number varchar(255),gender varchar(255),email varchar(255),password varchar(255))\")"
   ]
  },
  {
   "cell_type": "code",
   "execution_count": 24,
   "id": "ff451c13",
   "metadata": {},
   "outputs": [],
   "source": [
    "mycursor.execute(\"create table mybookings (Name varchar(255), Age int, Mobile_Number varchar(30), gender varchar(255),Hours int,Min int, Avenue varchar(255), Car_Name varchar(255))\")"
   ]
  },
  {
   "cell_type": "code",
   "execution_count": 10,
   "id": "20ba0e27",
   "metadata": {},
   "outputs": [],
   "source": [
    "def submit():\n",
    "    mycursor.execute(\"select email,password from userdetails\")    \n",
    "    x=mycursor.fetchall()           #fetches the selected\n",
    "    mail=Email.get()                #gets email from table\n",
    "    key=Password.get()              #gets password from table\n",
    "    if(len(mail)==0 or len(key)==0):         \n",
    "        messagebox.showinfo(\"!!ERROR!!\", \"PLEASE FILL IN THE DATA\")   \n",
    "\n",
    "    if ('@' not in mail):                   \n",
    "        messagebox.showinfo(\"!!ERROR!!\", \"PLEASE PROVIDE A VALID MAIL ID\")  \n",
    "    else:\n",
    "        pass\n",
    "    if(len(key)<8):                 \n",
    "        messagebox.showinfo(\"!!ERROR!!\",\"PLEASE ENSURE LENGTH OF PASSWORD(ATLEAST 8)\")\n",
    "    else:\n",
    "        pass\n",
    "        \n",
    "    for i in x:    #checks the email and password in database\n",
    "        if(mail in i[0]):\n",
    "            if(key in i[1]):\n",
    "                my_data_base.commit()    \n",
    "                main_menu()     \n",
    "            else:\n",
    "                messagebox.showinfo(\"!!ERROR!!\",\"PASSWORD IS INCORRECT\") \n",
    "        else:\n",
    "            pass"
   ]
  },
  {
   "cell_type": "code",
   "execution_count": 11,
   "id": "28b2c45f",
   "metadata": {},
   "outputs": [],
   "source": [
    "def savebookings():   \n",
    "    mycursor.execute(\"insert into mybookings values(%s,%s,%s,%s,%s,%s,%s,%s)\", (Name.get(),Age.get(), Mobile_Number.get(), var1.get(), Hours.get(),Mins.get(),clicked.get(),car.get()))\n",
    "    my_data_base.commit()\n",
    "    Name.set(\"\")\n",
    "    Age.set(\"\")\n",
    "    Mobile_Number.set(\"\")\n",
    "    Hours.set(\"\")\n",
    "    Mins.set(\"\")\n",
    "    messagebox.showinfo(\"Message\",\"Cab Booked Successfully\")"
   ]
  },
  {
   "cell_type": "code",
   "execution_count": 12,
   "id": "02dbb382",
   "metadata": {},
   "outputs": [],
   "source": [
    "\n",
    "def showbookings():   #Function to show the bookings made by the user \n",
    "    top6=Toplevel()   #Toplevel is used for creating a new window on the existing window\n",
    "    top6.title(\"User Details\")     #to set the title of the window\n",
    "    top6.geometry('1300x700')      #to set the geometry of the window\n",
    "#Lable is to print some text on the window and palce is position of the lable\n",
    "    Label(top6,text=\"YOUR BOOKINGS\",font=('georgia 18 bold'),fg='green').place(x=500,y=600)\n",
    "#executes the command ie; selects all the data in the table mybookings \n",
    "    mycursor.execute(\"select * from mybookings\")\n",
    "#fetches all the selected data from table\n",
    "    x=mycursor.fetchall()\n",
    "#BACK button destroys the existing window\n",
    "    b1=Button(top6,text=\"BACK\",fg=\"black\",bg=\"white\",height=1,width=7,font=('time 10 bold'),relief=RAISED,command=top6.destroy)\n",
    "    b1.place(x=40,y=530)\n",
    "#All the below lines are lables used to dispaly text\n",
    "#grid is same palce but places in the form of rows and columns(in tables)\n",
    "    Label(top6, text=\"Name\",font=('time 15 bold'),fg='red').grid(row=0, column=0)\n",
    "    Label(top6, text=\"Age\",font=('time 15 bold'),fg='red').grid(row=0, column=1)\n",
    "    Label(top6, text=\"Mobile Number\",font=('time 15 bold'),fg='red').grid(row=0, column=2)\n",
    "    Label(top6, text=\"Gender\",font=('time 15 bold'),fg='red').grid(row=0, column=3)\n",
    "    Label(top6, text=\"Hours\",font=('time 15 bold'),fg='red').grid(row=0, column=4)\n",
    "    Label(top6, text=\"Mins\",font=('time 15 bold'),fg='red').grid(row=0, column=5)\n",
    "    Label(top6, text=\"Avenue\",font=('time 15 bold'),fg='red').grid(row=0, column=6)\n",
    "    Label(top6, text=\"Car Name\",font=('time 15 bold'),fg='red').grid(row=0, column=7)\n",
    "    r=1     #initilize c(column) value to 1\n",
    "    for i in x:     #to print the data from the table in the database on to window\n",
    "        Label(top6, text=i[0],font=('time 15 bold')).grid(row=r ,column=0)\n",
    "        Label(top6, text=i[1],font=('time 15 bold')).grid(row=r ,column=1)\n",
    "        Label(top6, text=i[2],font=('time 15 bold')).grid(row=r ,column=2)\n",
    "        Label(top6, text=i[3],font=('time 15 bold')).grid(row=r ,column=3)\n",
    "        Label(top6, text=i[4],font=('time 15 bold')).grid(row=r ,column=4)\n",
    "        Label(top6, text=i[5],font=('time 15 bold')).grid(row=r ,column=5)\n",
    "        Label(top6, text=i[6],font=('time 15 bold')).grid(row=r ,column=6)\n",
    "        Label(top6, text=i[7],font=('time 15 bold')).grid(row=r ,column=7)\n",
    "        r=r+1     #increment the value of column by one(1)"
   ]
  },
  {
   "cell_type": "code",
   "execution_count": 13,
   "id": "d93f35d0",
   "metadata": {},
   "outputs": [],
   "source": [
    "def login():   #function to execute the login page\n",
    "    top2=Toplevel()    #window of the login page\n",
    "    top2.title(\"Login Page\")   #title of the window\n",
    "    top2.geometry('400x400')   #window size\n",
    "#heading on the top of the window\n",
    "    Label(top2,text=\"G-1'S LOGIN\",font=('time 15 bold'),fg='blue').place(x=140,y=50)\n",
    "#lable showing text \"E-MAIL\"\n",
    "    Label(top2,text=\"E-MAIL\",font=('time 15 bold')).place(x=40,y=140)\n",
    "#entry box to enter the email\n",
    "    e1=Entry(top2,bd=5,textvariable=Email)\n",
    "    e1.place(x=150,y=140)     #position of the entry box\n",
    "#lable showing text \"Password\"\n",
    "    Label(top2,text = 'Password',font = ('time 15 bold')).place(x=40,y=200)\n",
    "#show =\"\" displays the password in the form of stars()\n",
    "    e2=Entry(top2,show = '*',bd=5,textvariable=Password)\n",
    "    e2.place(x=150,y=200)\n",
    "#b4 is the login button which allows to login to the home page\n",
    "    b4=Button(top2,text=\"Login\",fg='white',bg='red',height=1,width=8,font=('time 15 bold'),command=submit)\n",
    "    b4.place(x=130,y=300)"
   ]
  },
  {
   "cell_type": "code",
   "execution_count": 14,
   "id": "998349e3",
   "metadata": {},
   "outputs": [
    {
     "data": {
      "text/plain": [
       "''"
      ]
     },
     "execution_count": 14,
     "metadata": {},
     "output_type": "execute_result"
    }
   ],
   "source": [
    "root=Tk() #root window\n",
    "root.title('Cab Booking') #title of the window\n",
    "root.geometry(\"1300x700\") # window size"
   ]
  },
  {
   "cell_type": "code",
   "execution_count": 15,
   "id": "659132f7",
   "metadata": {},
   "outputs": [],
   "source": [
    "First_Name=StringVar()    \n",
    "Last_Name=StringVar()     \n",
    "mobilenumber=StringVar()\n",
    "Email=StringVar()\n",
    "Password=StringVar()\n",
    "#applying canvas to the window\n",
    "canvas = Canvas(root,width=1300, height=700, bg='white')\n",
    "canvas.pack()\n",
    "#inserting image on window with coordinates\n",
    "cab_4 = PhotoImage(file=r'C:\\Users\\mural\\Downloads\\Online-Booking.png')\n",
    "canvas.create_image(0,0, image=cab_4, anchor=NW)\n",
    "#lable text as heading on the window\n",
    "Label(root,text=\"G-1 CABS REGISTRATION\",font=('time 20 bold'),fg='black').place(x=410,y=50)\n",
    "#lable text as heading on the window\n",
    "Label(root,text=\"G-1 CABS REGISTRATION\",font=('time 20 bold'),fg='black').place(x=410,y=50)\n",
    "#========NAMES OF THE ENTRYS IN REGISTRATION=======#\n",
    "Label(root,text=\" FIRST NAME \",font=('time 15 bold')).place(x=100,y=150)\n",
    "Entry(root,textvariable=First_Name,bd=5).place(x=340,y=150)\n",
    "Label(root,text=\"LAST NAME\",font=('time 15 bold')).place(x=100,y=200)\n",
    "Entry(root,textvariable=Last_Name,bd=5).place(x=340,y=200)\n",
    "Label(root,text=\"MOBILE NUMBER\",font=('time 15 bold')).place(x=100,y=250)\n",
    "Entry(root,textvariable=mobilenumber,bd=5).place(x=340,y=250)\n",
    "Label(root,text='GENDER',font=('time 15 bold')).place(x=100,y=300)\n",
    "#RADIO BUTTON IS USED FOR GENDER\n",
    "var=StringVar()\n",
    "r1=Radiobutton(root,text='MALE',variable=var,value='Male')\n",
    "r1.place(x=320,y=300)\n",
    "r1=Radiobutton(root,text='FEMALE',variable=var,value='Female')\n",
    "r1.place(x=420,y=300)\n",
    "Label(root,text=\"E-MAIL\",font=('time 15 bold')).place(x=100,y=350)\n",
    "Entry(root,textvariable=Email,bd=5).place(x=340,y=350)\n",
    "Label(root,text = 'Password',font = ('time 15 bold')).place(x=100,y=400)\n",
    "Entry(root,show = '*',textvariable=Password,bd=5).place(x=340,y=400)\n",
    "#BUTTON FOR REGISTER\n",
    "Button(root,text=\"Register\",fg='white',bg='green',height=1,width=10,font=('time 12 bold'),command=savebookings).place(x=150,y=500)\n",
    "#BUTTON  FOR GO TO LOGIN\n",
    "Button(root,text=\"Go To Login\",fg='white',bg='green',height=1,width=12,font=('time 12 bold'),command=login).place(x=300,y=500)"
   ]
  },
  {
   "cell_type": "code",
   "execution_count": 16,
   "id": "cc959aa3",
   "metadata": {},
   "outputs": [],
   "source": [
    "Name=StringVar()\n",
    "Age=IntVar()\n",
    "Hours=IntVar()\n",
    "Mins=IntVar()\n",
    "Mobile_Number=StringVar()\n",
    "var1=StringVar()\n",
    "clicked = StringVar()\n",
    "car = StringVar()"
   ]
  },
  {
   "cell_type": "code",
   "execution_count": 17,
   "id": "a1fcb223",
   "metadata": {},
   "outputs": [],
   "source": [
    "def open_window1():  #Function for booking\n",
    "    top1=Toplevel()  #new window\n",
    "    top1.title(\"Book Cab\")  #title of window\n",
    "    top1.geometry('1300x700') #window size\n",
    "#canvas to the window\n",
    "    canvas = Canvas(top1,width=1300, height=700, bg='white')\n",
    "    canvas.pack()\n",
    "#insert image on the window    \n",
    "    cab_4 = PhotoImage(file='Online-Booking.png')\n",
    "    canvas.create_image(0,0, image=cab_4, anchor=NW)"
   ]
  },
  {
   "cell_type": "code",
   "execution_count": 19,
   "id": "0c41aec1",
   "metadata": {},
   "outputs": [],
   "source": [
    "top1=Toplevel()\n",
    "Label(top1,text=\"CAB BOOKING\",font=('time 20 bold'),fg='black').place(x=500,y=70)\n",
    "b1=Button(top1,text=\"BACK\",fg=\"black\",bg=\"white\",height=1,width=7,font=('time 10 bold'),relief=RAISED,command=top1.destroy)\n",
    "b1.place(x=40,y=530)\n",
    "Label(top1, text=\"Name\", font=('georgia 14 bold')).place(x=200, y=130)\n",
    "Entry(top1,textvariable=Name,bd=5).place(x=410,y=130)\n",
    "Label(top1, text=\"Age\", font=('georgia 14 bold')).place(x=200, y=180)\n",
    "Entry(top1,textvariable=Age,bd=5).place(x=410,y=180)\n",
    "Label(top1,text='Gender',font=('georgia 14 bold')).place(x=200,y=230)\n",
    "#Radio button for gender  \n",
    "#var1=StringVar()\n",
    "r2=Radiobutton(top1,text='MALE',font=('georgia 10 bold'),variable=var1,value='Male')\n",
    "r2.place(x=400,y=230)\n",
    "r2=Radiobutton(top1,text='FEMALE',font=('georgia 10 bold'),variable=var1,value='Female')\n",
    "r2.place(x=500,y=230)\n",
    "#clicked = StringVar()\n",
    "Label(top1, text=\"Avenue\", font=('georgia 14 bold')).place(x=200, y=280)\n",
    "drop = OptionMenu(top1, clicked, \"Vijayawad to Rajahmundry\", \"Delhi to Punjab\", \"Amritsar to Ludhiana\")\n",
    "drop.place(x=410,y=280)\n",
    "Label(top1, text=\"Time\", font=('georgia 14 bold')).place(x=200, y=330)\n",
    "Label(top1, text=\"Hours\", font=('georgia 14 bold')).place(x=350, y=330)\n",
    "Entry(top1,bd=5,width=5,textvariable=Hours).place(x=440,y=330)\n",
    "Label(top1, text=\"Mins\", font=('georgia 14 bold')).place(x=500, y=330)\n",
    "Entry(top1,bd=5,width=5,textvariable=Mins).place(x=580,y=330)\n",
    "Label(top1, text=\"Mobile Number\", font=('georgia 14 bold')).place(x=200, y=380)\n",
    "Entry(top1,bd=5,textvariable=Mobile_Number).place(x=410,y=380)\n",
    "b1=Button(top1,text=\"Select Cab\",height=1,width=8,font='georgia 12 bold',relief=RAISED,command=cab_select)\n",
    "b1.place(x=325,y=450)\n",
    "top1.mainloop()\n",
    "    "
   ]
  },
  {
   "cell_type": "code",
   "execution_count": 18,
   "id": "27b2f815",
   "metadata": {},
   "outputs": [],
   "source": [
    "def cab_select():         #function to show all cabs avaliable\n",
    "    top3=Toplevel()       #creates a new window \n",
    "    top3.title(\"Cabs\")    #title of window\n",
    "    top3.geometry('1300x700')     \n",
    "    Label(top3,text=\"G-1 CABS\",font=('georgia 18 bold'),fg='red').place(x=590,y=50) #Heading in the window\n",
    "#CAR images storing in file\n",
    "    cab = PhotoImage(file=r'C:\\Users\\mural\\Downloads\\car.png')    \n",
    "    cab_1 = PhotoImage(file=r'C:\\Users\\mural\\Downloads\\tatacar.png')  \n",
    "    cab_2 = PhotoImage(file=r'C:\\Users\\mural\\Downloads\\tatacar.png')\n",
    "    cab_3 = PhotoImage(file=r'C:\\Users\\mural\\Downloads\\tatacar.png')\n",
    "    cab_4 = PhotoImage(file=r'C:\\Users\\mural\\Downloads\\tatacar.png')\n",
    "    cab_5 = PhotoImage(file=r'C:\\Users\\mural\\Downloads\\tatacar.png')\n",
    "    #car = StringVar()\n",
    "    Label(top3, text=\"Cabs\", font=('georgia 14 bold')).place(x=100, y=100)   #lable to show cab names\n",
    "#DROP is used to show list of cab names to select\n",
    "    drop = OptionMenu(top3, car, \"Taxi cab\",\"Tata Indica Cab\",\"Swift Cab\",\"Mahindra scorpio Cab\",\"Chevrolet Tavera Cab\",\"Innova Cab\")\n",
    "    drop.place(x=180,y=100)\n",
    "#when clicked on BOOK button your cab is booked and data is saved in MY BOOKINGS\n",
    "    b=Button(top3,text=\"Book\",fg='white',bg='black',height=2,width=10,font='georgia 12 bold',relief=RAISED,command=savebookings)\n",
    "    b.place(x=1000,y=100)\n",
    "#button b1 shows the taxi image\n",
    "    b1=Button(top3,image=cab,text='Taxi',font=('georgia 14 bold'),border=0,compound=TOP)\n",
    "    b1.place(x=150,y=190)\n",
    "#button b2 shows the Tata Indica image\n",
    "    b2=Button(top3,image=cab_1,text='Tata Indica',font=('georgia 14 bold'),border=0,compound=TOP)\n",
    "    b2.place(x=500,y=190)\n",
    "#button b3 shows the Swift image\n",
    "    b3=Button(top3,image=cab_2,text='Swift',font=('georgia 14 bold'),border=0,compound=TOP)\n",
    "    b3.place(x=850,y=190)\n",
    "#button b4 shows the Mahindra scorpio image \n",
    "    b4=Button(top3,image=cab_3,text='Mahindra scorpio',font=('georgia 14 bold'),border=0,compound=TOP)\n",
    "    b4.place(x=150,y=450)\n",
    "#button b5 shows the Chevrolet Tavera image\n",
    "    b5=Button(top3,image=cab_4,text='Chevrolet Tavera',font=('georgia 14 bold'),border=0,compound=TOP)\n",
    "    b5.place(x=500,y=450)\n",
    "#button b6 shows Innova image \n",
    "    b6=Button(top3,image=cab_5,text='Innova',font=('georgia 14 bold'),border=0,compound=TOP)\n",
    "    b6.place(x=850,y=450)\n",
    "#BACK is to close the existing window and go back\n",
    "    Button(top3,text=\"BACK\",height=1,width=7,font=('georgia 13 bold'),relief=RAISED,command=top3.destroy).place(x=30,y=600)\n",
    "    top3.mainloop()        #closes the window top3\n",
    "\n"
   ]
  },
  {
   "cell_type": "code",
   "execution_count": 25,
   "id": "d2da9633",
   "metadata": {},
   "outputs": [],
   "source": [
    "def main_menu():     #function to show home page\n",
    "    top=Toplevel()  #creates a new window\n",
    "    top.title(\"Main Menu\")     #window title\n",
    "    top.geometry('1300x700')   #window geometry\n",
    "#appling canvas to window and pack it\n",
    "    canvas = Canvas(top,width=1300, height=645, bg='white')\n",
    "    canvas.pack()\n",
    "    cab_3 = PhotoImage(file='background.png')   #place image on the window \n",
    "    canvas.create_image(0,0, image=cab_3, anchor=NW)    #image cordinates on window\n",
    "#Create three buttons \"CAB BOOKING\" AND \"MY BOOKINGS\" AND \"USER DETAILS\" AND \"BACK\"\n",
    "#passed function to all buttons individually\n",
    "    b1=Button(top,text=\"BOOK CAB\",height=1,width=14,font=('georgia 18 bold'),relief=RAISED,command=open_window1)\n",
    "    b1.place(x=500,y=100)  #places button b1\n",
    "    b2=Button(top,text=\"MY BOOKINGS\",height=1,width=14,font=('georgia 18 bold'),relief=RAISED,command=showbookings)\n",
    "    b2.place(x=900,y=100)  #places button b2\n",
    "    b4=Button(top,text=\"USER DETAILS\",height=1,width=14,font=('georgia 18 bold'),relief=RAISED,command=show)\n",
    "    b4.place(x=100,y=100)  #places button b4\n",
    "    b3=Button(top,text=\"BACK\",height=1,width=7,font=('georgia 13 bold'),relief=FLAT,command=top.destroy)\n",
    "    b3.place(x=50,y=550)   #places button b4\n",
    "    top.mainloop()   #closes the window top \n",
    "def message():          #message box\n",
    "    messagebox.showinfo(\"Message\",\"Account Created Sucessfully\")\n",
    "\n",
    "root.mainloop()    #closes the window root"
   ]
  },
  {
   "cell_type": "code",
   "execution_count": null,
   "id": "8860df20",
   "metadata": {},
   "outputs": [],
   "source": []
  }
 ],
 "metadata": {
  "kernelspec": {
   "display_name": "Python 3 (ipykernel)",
   "language": "python",
   "name": "python3"
  },
  "language_info": {
   "codemirror_mode": {
    "name": "ipython",
    "version": 3
   },
   "file_extension": ".py",
   "mimetype": "text/x-python",
   "name": "python",
   "nbconvert_exporter": "python",
   "pygments_lexer": "ipython3",
   "version": "3.9.13"
  }
 },
 "nbformat": 4,
 "nbformat_minor": 5
}
